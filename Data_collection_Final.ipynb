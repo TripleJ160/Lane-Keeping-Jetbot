{
  "cells": [
    {
      "cell_type": "markdown",
      "metadata": {
        "id": "cYeynZg96WyL"
      },
      "source": [
        "# Lane Following - Data collection\n",
        "\n"
      ]
    },
    {
      "cell_type": "markdown",
      "metadata": {
        "id": "vao91lzP6WyM"
      },
      "source": [
        "### Import library module\n",
        "Import all the libraries needed for Data Collection.\n",
        "\n",
        "Using OpenCV to visualize and save images with labels. Uuid, datetime and other libraries are used for image naming."
      ]
    },
    {
      "cell_type": "code",
      "execution_count": null,
      "metadata": {
        "id": "MJfa-_k26WyN"
      },
      "outputs": [],
      "source": [
        "# IPython libraries be used to display and parts\n",
        "import traitlets\n",
        "import ipywidgets.widgets as widgets\n",
        "from IPython.display import display\n",
        "# Camera and servo interface foe Jetbot robot car\n",
        "from jetbot import Robot, Camera, bgr8_to_jpeg\n",
        "# Python base package for image annotations\n",
        "from uuid import uuid1\n",
        "import os\n",
        "import json\n",
        "import glob\n",
        "import datetime\n",
        "import numpy as np\n",
        "import cv2\n",
        "import time\n",
        "from servoserial import ServoSerial\n",
        "import threading\n"
      ]
    },
    {
      "cell_type": "markdown",
      "metadata": {
        "id": "xmT4jUjH6WyN"
      },
      "source": [
        "# Display camera data in real time\n",
        "\n",
        "The neural network takes an image of 224x224 pixels as input.\n",
        "\n"
      ]
    },
    {
      "cell_type": "code",
      "execution_count": null,
      "metadata": {
        "id": "UBydWJJc6WyN",
        "outputId": "ac3fd6d5-e79e-40a2-dc82-a45dbc85c3ef",
        "colab": {
          "referenced_widgets": [
            "af606123f2bd4b2897b6d2dfdbed489f",
            "abb83f4d525543ee8239cd5f61588c56",
            "f29525de1f3745abb3c45afec8795356"
          ]
        }
      },
      "outputs": [
        {
          "data": {
            "application/vnd.jupyter.widget-view+json": {
              "model_id": "af606123f2bd4b2897b6d2dfdbed489f",
              "version_major": 2,
              "version_minor": 0
            },
            "text/plain": [
              "HBox(children=(Image(value=b'\\xff\\xd8\\xff\\xe0\\x00\\x10JFIF\\x00\\x01\\x01\\x00\\x00\\x01\\x00\\x01\\x00\\x00\\xff\\xdb\\x00C…"
            ]
          },
          "metadata": {},
          "output_type": "display_data"
        },
        {
          "data": {
            "application/vnd.jupyter.widget-view+json": {
              "model_id": "abb83f4d525543ee8239cd5f61588c56",
              "version_major": 2,
              "version_minor": 0
            },
            "text/plain": [
              "FloatSlider(value=0.0, description='x', max=1.0, min=-1.0, step=0.001)"
            ]
          },
          "metadata": {},
          "output_type": "display_data"
        },
        {
          "data": {
            "application/vnd.jupyter.widget-view+json": {
              "model_id": "f29525de1f3745abb3c45afec8795356",
              "version_major": 2,
              "version_minor": 0
            },
            "text/plain": [
              "FloatSlider(value=0.0, description='y', max=1.0, min=-1.0, step=0.001)"
            ]
          },
          "metadata": {},
          "output_type": "display_data"
        }
      ],
      "source": [
        "camera = Camera()\n",
        "\n",
        "image_widget = widgets.Image(format='jpeg', width=224, height=224)\n",
        "target_widget = widgets.Image(format='jpeg', width=224, height=224)\n",
        "\n",
        "x_slider = widgets.FloatSlider(min=-1.0, max=1.0, step=0.001, description='x')\n",
        "y_slider = widgets.FloatSlider(min=-1.0, max=1.0, step=0.001, description='y')\n",
        "\n",
        "def display_xy(camera_image):\n",
        "    image = np.copy(camera_image)\n",
        "    x = x_slider.value\n",
        "    y = y_slider.value\n",
        "    x = int(x * 224 / 2 + 112)\n",
        "    y = int(y * 224 / 2 + 112)\n",
        "    image = cv2.circle(image, (x, y), 8, (0, 255, 0), 3)\n",
        "    image = cv2.circle(image, (112, 224), 8, (0, 0,255), 3)\n",
        "    image = cv2.line(image, (x,y), (112,224), (255,0,0), 3)\n",
        "    jpeg_image = bgr8_to_jpeg(image)\n",
        "    return jpeg_image\n",
        "\n",
        "time.sleep(1)\n",
        "traitlets.dlink((camera, 'value'), (image_widget, 'value'), transform=bgr8_to_jpeg)\n",
        "traitlets.dlink((camera, 'value'), (target_widget, 'value'), transform=display_xy)\n",
        "\n",
        "display(widgets.HBox([image_widget, target_widget]), x_slider, y_slider)"
      ]
    },
    {
      "cell_type": "markdown",
      "metadata": {
        "id": "id8VVnPp6WyN"
      },
      "source": [
        "# Create a handle controller instance\n",
        "\n",
        "\n",
        "\n",
        "\n",
        "We will use this index to create and display the controller."
      ]
    },
    {
      "cell_type": "code",
      "execution_count": null,
      "metadata": {
        "id": "0aKUeBNu6WyN",
        "outputId": "2c7cbb39-65d0-4cf0-a8fa-e4d6213f9702",
        "colab": {
          "referenced_widgets": [
            "cec2be5cb8d14d318cfd13de634c492c"
          ]
        }
      },
      "outputs": [
        {
          "data": {
            "application/vnd.jupyter.widget-view+json": {
              "model_id": "cec2be5cb8d14d318cfd13de634c492c",
              "version_major": 2,
              "version_minor": 0
            },
            "text/plain": [
              "Controller()"
            ]
          },
          "metadata": {},
          "output_type": "display_data"
        }
      ],
      "source": [
        "controller = widgets.Controller(index=0)\n",
        "robot = Robot()\n",
        "display(controller)"
      ]
    },
    {
      "cell_type": "markdown",
      "metadata": {
        "id": "7J1eW6VZ6WyO"
      },
      "source": [
        "### Connect the controller to the label image."
      ]
    },
    {
      "cell_type": "code",
      "execution_count": null,
      "metadata": {
        "id": "yjRNjq2e6WyO"
      },
      "outputs": [],
      "source": [
        "widgets.jsdlink((controller.axes[2], 'value'), (x_slider, 'value'))\n",
        "widgets.jsdlink((controller.axes[3], 'value'), (y_slider, 'value'))"
      ]
    },
    {
      "cell_type": "markdown",
      "metadata": {
        "id": "dTuhjRDd6WyO"
      },
      "source": [
        "# Data collection\n",
        "\n",
        "The code below will display the live image feed and the number of images we saved.\n",
        "\n",
        "We store the value of the target X, Y:\n",
        "\n",
        "1. Put the green dot on the target\n",
        "2. Press the 13th button to save\n",
        "\n",
        "Then the data we want will be saved to the ``dataset_xy`` folder. The saved file naming format is:\n",
        "``xy_<x value>_<y value>_<uuid>.jpg``\n",
        "When we train, we load the image and parse the x and y values in the file name."
      ]
    },
    {
      "cell_type": "code",
      "execution_count": null,
      "metadata": {
        "id": "fk27Yklr6WyO"
      },
      "outputs": [],
      "source": [
        "DATASET_DIR = 'dataset_xy'\n",
        "\n",
        "# we have this \"try/except\" statement because these next functions can throw an error if the directories exist already\n",
        "try:\n",
        "    os.makedirs(DATASET_DIR)\n",
        "except FileExistsError:\n",
        "    print('Directories not created becasue they already exist')\n",
        "\n",
        "for b in controller.buttons:\n",
        "    b.unobserve_all()\n",
        "\n",
        "count_widget = widgets.IntText(description='count', value=len(glob.glob(os.path.join(DATASET_DIR, '*.jpg'))))\n",
        "\n",
        "def xy_uuid(x, y):\n",
        "    return 'xy_%03d_%03d_%s' % (x * 50 + 50, y * 50 + 50, uuid1())\n",
        "\n",
        "def save_snapshot(change):\n",
        "    if change['new']:\n",
        "        uuid = xy_uuid(x_slider.value, y_slider.value)\n",
        "        image_path = os.path.join(DATASET_DIR, uuid + '.jpg')\n",
        "        with open(image_path, 'wb') as f:\n",
        "            f.write(image_widget.value)\n",
        "        count_widget.value = len(glob.glob(os.path.join(DATASET_DIR, '*.jpg')))\n",
        "\n",
        "\n",
        "controller.buttons[4].observe(save_snapshot, names='value')\n",
        "\n",
        "display(widgets.VBox([\n",
        "    target_widget,\n",
        "    count_widget\n",
        "]))"
      ]
    },
    {
      "cell_type": "markdown",
      "metadata": {
        "id": "1iMtBwCF6WyO"
      },
      "source": [
        "Create a method to adjust the position of the servo to get the lane following angle and call this method to adjust."
      ]
    },
    {
      "cell_type": "code",
      "execution_count": null,
      "metadata": {
        "id": "xu9ewjbT6WyO"
      },
      "outputs": [],
      "source": [
        "servo_device = ServoSerial()\n",
        "def camservoInitFunction():\n",
        "    global leftrightpulse, updownpulse\n",
        "    leftrightpulse = 2048\n",
        "    updownpulse = 2048\n",
        "    servo_device.Servo_serial_control(1, 2048)\n",
        "    time.sleep(0.1)\n",
        "    servo_device.Servo_serial_control(2, 1300)"
      ]
    },
    {
      "cell_type": "markdown",
      "metadata": {
        "id": "KBeyJFdB6WyO"
      },
      "source": [
        "Call the below method to adjust the pan/tilt to the lane following angle"
      ]
    },
    {
      "cell_type": "code",
      "execution_count": null,
      "metadata": {
        "id": "IMa7IPuj6WyO"
      },
      "outputs": [],
      "source": [
        "camservoInitFunction()"
      ]
    }
  ],
  "metadata": {
    "kernelspec": {
      "display_name": "Python 3",
      "language": "python",
      "name": "python3"
    },
    "language_info": {
      "codemirror_mode": {
        "name": "ipython",
        "version": 3
      },
      "file_extension": ".py",
      "mimetype": "text/x-python",
      "name": "python",
      "nbconvert_exporter": "python",
      "pygments_lexer": "ipython3",
      "version": "3.8.8"
    },
    "colab": {
      "provenance": []
    }
  },
  "nbformat": 4,
  "nbformat_minor": 0
}