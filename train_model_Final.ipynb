{
  "cells": [
    {
      "cell_type": "markdown",
      "metadata": {
        "id": "AhnV_o8I6e-z"
      },
      "source": [
        "# Lane Following- train model\n",
        "\n",
        "Train a neural network to get an input image and output a set of x, y values corresponding to a target.\n",
        "We will use the PyTorch deep learning framework to train the ResNet18 neural network structure model to identify road conditions for automatic driving."
      ]
    },
    {
      "cell_type": "code",
      "execution_count": null,
      "metadata": {
        "id": "v8XMYenu6e-0"
      },
      "outputs": [],
      "source": [
        "import torch\n",
        "import torch.optim as optim\n",
        "import torch.nn.functional as F\n",
        "import torchvision\n",
        "import torchvision.datasets as datasets\n",
        "import torchvision.models as models\n",
        "import torchvision.transforms as transforms\n",
        "import glob\n",
        "import PIL.Image\n",
        "import os\n",
        "import numpy as np"
      ]
    },
    {
      "cell_type": "markdown",
      "metadata": {
        "id": "9neprp1s6e-0"
      },
      "source": [
        "### Create a database instance\n",
        "\n",
        "\n",
        "We create a custom 'torch.utils.data.Dataset` database instance that implements the ``__len__`` and ``__getitem__`` functions.\n",
        "\n",
        "\n",
        "This class is responsible for loading the image and parsing the x and y values in the image file name.\n",
        "Since we implemented the ``torch.utils.data.Dataset`` class, we can use all of the torch data utilities.\n"
      ]
    },
    {
      "cell_type": "code",
      "execution_count": null,
      "metadata": {
        "id": "tooy8A5t6e-1"
      },
      "outputs": [],
      "source": [
        "def get_x(path):\n",
        "    \"\"\"Gets the x value from the image filename\"\"\"\n",
        "    return (float(int(path[3:6])) - 50.0) / 50.0\n",
        "\n",
        "def get_y(path):\n",
        "    \"\"\"Gets the y value from the image filename\"\"\"\n",
        "    return (float(int(path[7:10])) - 50.0) / 50.0\n",
        "\n",
        "class XYDataset(torch.utils.data.Dataset):\n",
        "\n",
        "    def __init__(self, directory, random_hflips=False):\n",
        "        self.directory = directory\n",
        "        self.random_hflips = random_hflips\n",
        "        self.image_paths = glob.glob(os.path.join(self.directory, '*.jpg'))\n",
        "        self.color_jitter = transforms.ColorJitter(0.3, 0.3, 0.3, 0.3)\n",
        "\n",
        "    def __len__(self):\n",
        "        return len(self.image_paths)\n",
        "\n",
        "    def __getitem__(self, idx):\n",
        "        image_path = self.image_paths[idx]\n",
        "\n",
        "        image = PIL.Image.open(image_path)\n",
        "        x = float(get_x(os.path.basename(image_path)))\n",
        "        y = float(get_y(os.path.basename(image_path)))\n",
        "\n",
        "        if float(np.random.rand(1)) > 0.5:\n",
        "            image = transforms.functional.hflip(image)\n",
        "            x = -x\n",
        "\n",
        "        image = self.color_jitter(image)\n",
        "        image = transforms.functional.resize(image, (224, 224))\n",
        "        image = transforms.functional.to_tensor(image)\n",
        "        image = image.numpy()[::-1].copy()\n",
        "        image = torch.from_numpy(image)\n",
        "        image = transforms.functional.normalize(image, [0.485, 0.456, 0.406], [0.229, 0.224, 0.225])\n",
        "\n",
        "        return image, torch.tensor([x, y]).float()\n",
        "\n",
        "dataset = XYDataset('dataset_xy', random_hflips=False)"
      ]
    },
    {
      "cell_type": "markdown",
      "metadata": {
        "id": "OgK594iC6e-1"
      },
      "source": [
        "### Split the data set into a training sets and a test sets\n",
        "\n",
        "Once we read the dataset, we will split the dataset in the training set and test set. Here, we split the dataset as 90% for training and 10% for testing. The test set will be used to verify the accuracy of the model we are training."
      ]
    },
    {
      "cell_type": "code",
      "execution_count": null,
      "metadata": {
        "id": "k3l3dWPp6e-1"
      },
      "outputs": [],
      "source": [
        "test_percent = 0.1\n",
        "num_test = int(test_percent * len(dataset))\n",
        "train_dataset, test_dataset = torch.utils.data.random_split(dataset, [len(dataset) - num_test, num_test])"
      ]
    },
    {
      "cell_type": "markdown",
      "metadata": {
        "id": "dFoRbB-o6e-1"
      },
      "source": [
        "### Create a data loader to load data in bulk\n",
        "\n",
        "We use the ``DataLoader`` class to load data in bulk, shuffle data, and allow multiple child processes to be used.\n",
        "\n",
        "Here, we use a data batch size of 16. The batch size will be based on the memory available to the GPU, which can affect the accuracy of the model."
      ]
    },
    {
      "cell_type": "code",
      "execution_count": null,
      "metadata": {
        "id": "mtazW9Et6e-1"
      },
      "outputs": [],
      "source": [
        "# Train sets\n",
        "train_loader = torch.utils.data.DataLoader(\n",
        "    train_dataset,\n",
        "    batch_size=16,\n",
        "    shuffle=True,\n",
        "    num_workers=4\n",
        ")\n",
        "\n",
        "# Test sets\n",
        "test_loader = torch.utils.data.DataLoader(\n",
        "    test_dataset,\n",
        "    batch_size=16,\n",
        "    shuffle=True,\n",
        "    num_workers=4\n",
        ")"
      ]
    },
    {
      "cell_type": "markdown",
      "metadata": {
        "id": "QzMZu_yj6e-1"
      },
      "source": [
        "### Define a neural network model\n",
        "\n",
        "The ResNet-18 model we use is based on PyTorch TorchVision. In the process of “migration learning”, also called “transfer learning”, we can reuse a pre-trained model (training millions of images) for creating a new task with much less data available.\n"
      ]
    },
    {
      "cell_type": "code",
      "execution_count": null,
      "metadata": {
        "id": "-USzAzFG6e-5"
      },
      "outputs": [],
      "source": [
        "model = models.resnet18(pretrained=True)"
      ]
    },
    {
      "cell_type": "markdown",
      "metadata": {
        "id": "n8gFuXJQ6e-6"
      },
      "source": [
        "The ResNet model is fully connected (fc) to the final layer with 512 as ``in_features``, we will train the regression, so ``out_features`` as 2\n",
        "\n",
        "Finally, we transfer the model to the GPU for execution."
      ]
    },
    {
      "cell_type": "code",
      "execution_count": null,
      "metadata": {
        "id": "hh_8uadB6e-6"
      },
      "outputs": [],
      "source": [
        "model.fc = torch.nn.Linear(512, 2)\n",
        "device = torch.device('cuda')\n",
        "model = model.to(device)"
      ]
    },
    {
      "cell_type": "markdown",
      "metadata": {
        "id": "doY2mLmv6e-6"
      },
      "source": [
        "# Train Regression\n",
        "\n",
        "We have trained 50 times. If there is a loss reduction situation, we will save the best model:"
      ]
    },
    {
      "cell_type": "code",
      "execution_count": null,
      "metadata": {
        "id": "LShaCauo6e-6"
      },
      "outputs": [],
      "source": [
        "# NUM_EPOCHS = 50\n",
        "NUM_EPOCHS = 50\n",
        "BEST_MODEL_PATH = 'best_steering_model_xy.pth'\n",
        "best_loss = 1e9\n",
        "\n",
        "optimizer = optim.Adam(model.parameters())\n",
        "\n",
        "for epoch in range(NUM_EPOCHS):\n",
        "\n",
        "    model.train()\n",
        "    train_loss = 0.0\n",
        "    for images, labels in iter(train_loader):\n",
        "        images = images.to(device)\n",
        "        labels = labels.to(device)\n",
        "        optimizer.zero_grad()\n",
        "        outputs = model(images)\n",
        "        loss = F.mse_loss(outputs, labels)\n",
        "        train_loss += loss\n",
        "        loss.backward()\n",
        "        optimizer.step()\n",
        "    train_loss /= len(train_loader)\n",
        "\n",
        "    model.eval()\n",
        "    test_loss = 0.0\n",
        "    for images, labels in iter(test_loader):\n",
        "        images = images.to(device)\n",
        "        labels = labels.to(device)\n",
        "        outputs = model(images)\n",
        "        loss = F.mse_loss(outputs, labels)\n",
        "        test_loss += loss\n",
        "    test_loss /= len(test_loader)\n",
        "\n",
        "    print('%f, %f' % (train_loss, test_loss))\n",
        "    if test_loss < best_loss:\n",
        "        torch.save(model.state_dict(), BEST_MODEL_PATH)\n",
        "        best_loss = test_loss"
      ]
    },
    {
      "cell_type": "markdown",
      "metadata": {
        "id": "WKiCA55F6e-6"
      },
      "source": [
        "Once the model is trained, it will generate a ``best_steering_model_xy.pth`` file, which we will use in the lane following routine for reasoning."
      ]
    }
  ],
  "metadata": {
    "kernelspec": {
      "display_name": "Python 3",
      "language": "python",
      "name": "python3"
    },
    "language_info": {
      "codemirror_mode": {
        "name": "ipython",
        "version": 3
      },
      "file_extension": ".py",
      "mimetype": "text/x-python",
      "name": "python",
      "nbconvert_exporter": "python",
      "pygments_lexer": "ipython3",
      "version": "3.8.8"
    },
    "colab": {
      "provenance": []
    }
  },
  "nbformat": 4,
  "nbformat_minor": 0
}