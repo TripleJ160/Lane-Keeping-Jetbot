{
  "cells": [
    {
      "cell_type": "markdown",
      "metadata": {
        "id": "Q907d-xMyiY1"
      },
      "source": [
        "# Lane Follow\n",
        "\n",
        "In this example, we will use our trained model to make the robot move smoothly on the track."
      ]
    },
    {
      "cell_type": "markdown",
      "metadata": {
        "id": "R4fU7TGhyiY2"
      },
      "source": [
        "## Loading the model\n",
        "\n",
        "Using ``best_steering_model_xy.pth``\n",
        "\n"
      ]
    },
    {
      "cell_type": "code",
      "execution_count": null,
      "metadata": {
        "id": "52abA2ueyiY3"
      },
      "outputs": [],
      "source": [
        "import torchvision\n",
        "import torch\n",
        "\n",
        "model = torchvision.models.resnet18(pretrained=False)\n",
        "model.fc = torch.nn.Linear(512, 2)"
      ]
    },
    {
      "cell_type": "code",
      "execution_count": null,
      "metadata": {
        "id": "3wyVYj-EyiY3",
        "outputId": "251d6a43-d446-4871-9c08-13e7de808b7f",
        "colab": {
          "referenced_widgets": [
            "353b3874b82744e99be3f979e273e04f"
          ]
        }
      },
      "outputs": [
        {
          "data": {
            "application/vnd.jupyter.widget-view+json": {
              "model_id": "353b3874b82744e99be3f979e273e04f",
              "version_major": 2,
              "version_minor": 0
            },
            "text/plain": [
              "Controller()"
            ]
          },
          "metadata": {},
          "output_type": "display_data"
        }
      ],
      "source": [
        "from servoserial import ServoSerial\n",
        "import threading\n",
        "# Kill thpread\n",
        "import inspect\n",
        "import ctypes\n",
        "import ipywidgets.widgets as widgets\n",
        "from IPython.display import display\n",
        "import time\n",
        "\n",
        "controller = widgets.Controller(index=0)\n",
        "display(controller)"
      ]
    },
    {
      "cell_type": "markdown",
      "metadata": {
        "id": "CxYtuAShyiY4"
      },
      "source": [
        "Load the trained model ``best_steering_model_xy.pth``."
      ]
    },
    {
      "cell_type": "code",
      "execution_count": null,
      "metadata": {
        "id": "rzruIUkDyiY4"
      },
      "outputs": [],
      "source": [
        "model.load_state_dict(torch.load('best_steering_model_xy.pth'))"
      ]
    },
    {
      "cell_type": "markdown",
      "metadata": {
        "id": "ah3gwJvvyiY4"
      },
      "source": [
        "CPU to GPU"
      ]
    },
    {
      "cell_type": "code",
      "execution_count": null,
      "metadata": {
        "id": "nqPeGm0fyiY4"
      },
      "outputs": [],
      "source": [
        "device = torch.device('cuda')\n",
        "model = model.to(device)\n",
        "model = model.eval().half()"
      ]
    },
    {
      "cell_type": "markdown",
      "metadata": {
        "id": "nDJ4dXgZyiY4"
      },
      "source": [
        "# Pre-processing function\n",
        "Match the format of the camera\n",
        "1. Convert from HWC(Channel, Height, Width) layout to CHW layout\n",
        "2. Normalize using the same parameters (The camera provides values in the range [0, 255], and the training loaded image is in the range [0, 1], so we need to scale 255.0\n",
        "3. Transfer data from CPU memory to GPU memory\n",
        "4. Add a batch dimension"
      ]
    },
    {
      "cell_type": "code",
      "execution_count": null,
      "metadata": {
        "id": "47M9Q1NfyiY5"
      },
      "outputs": [],
      "source": [
        "import torchvision.transforms as transforms\n",
        "import torch.nn.functional as F\n",
        "import cv2\n",
        "import PIL.Image\n",
        "import numpy as np\n",
        "\n",
        "mean = torch.Tensor([0.485, 0.456, 0.406]).cuda().half()\n",
        "std = torch.Tensor([0.229, 0.224, 0.225]).cuda().half()\n",
        "\n",
        "def preprocess(image):\n",
        "    image = PIL.Image.fromarray(image)\n",
        "    image = transforms.functional.to_tensor(image).to(device).half()\n",
        "    image.sub_(mean[:, None, None]).div_(std[:, None, None])\n",
        "    return image[None, ...]"
      ]
    },
    {
      "cell_type": "markdown",
      "metadata": {
        "id": "N28B1OZcyiY5"
      },
      "source": [
        "We have defined a preprocessing function that converts images from camera format to neural network input format.\n",
        "\n",
        "start showing our camera."
      ]
    },
    {
      "cell_type": "code",
      "execution_count": null,
      "metadata": {
        "id": "QO0fwwUWyiY5",
        "outputId": "29883b7b-f401-4f7e-b28c-f2e65b0a3ee9",
        "colab": {
          "referenced_widgets": [
            "2644211fd05e48f183e5dc0485e9b823"
          ]
        }
      },
      "outputs": [
        {
          "name": "stdout",
          "output_type": "stream",
          "text": [
            "serial Open!\n"
          ]
        },
        {
          "data": {
            "application/vnd.jupyter.widget-view+json": {
              "model_id": "2644211fd05e48f183e5dc0485e9b823",
              "version_major": 2,
              "version_minor": 0
            },
            "text/plain": [
              "Image(value=b'\\xff\\xd8\\xff\\xe0\\x00\\x10JFIF\\x00\\x01\\x01\\x00\\x00\\x01\\x00\\x01\\x00\\x00\\xff\\xdb\\x00C\\x00\\x02\\x01\\x0…"
            ]
          },
          "metadata": {},
          "output_type": "display_data"
        }
      ],
      "source": [
        "from IPython.display import display\n",
        "import ipywidgets\n",
        "import traitlets\n",
        "from jetbot import Camera, bgr8_to_jpeg\n",
        "from servoserial import ServoSerial\n",
        "\n",
        "#camera = Camera()\n",
        "camera = Camera.instance(width=224, height=224, fps=10)\n",
        "servo_device = ServoSerial()\n",
        "\n",
        "image_widget = ipywidgets.Image()\n",
        "\n",
        "traitlets.dlink((camera, 'value'), (image_widget, 'value'), transform=bgr8_to_jpeg)\n",
        "\n",
        "display(image_widget)\n",
        "\n",
        "def camservoInitFunction():\n",
        "    global leftrightpulse, updownpulse\n",
        "    leftrightpulse = 2048\n",
        "    updownpulse = 1500\n",
        "    servo_device.Servo_serial_control(1, 2048)\n",
        "    time.sleep(0.1)\n",
        "    servo_device.Servo_serial_control(2, 1300)"
      ]
    },
    {
      "cell_type": "markdown",
      "metadata": {
        "id": "gGWM_tkVyiY5"
      },
      "source": [
        "Create a robot instance to drive the motor"
      ]
    },
    {
      "cell_type": "code",
      "execution_count": null,
      "metadata": {
        "id": "75RCd9alyiY5"
      },
      "outputs": [],
      "source": [
        "from jetbot import Robot\n",
        "\n",
        "robot = Robot()"
      ]
    },
    {
      "cell_type": "markdown",
      "metadata": {
        "id": "WHn3mjF1yiY5"
      },
      "source": [
        "Sliders to control Speed and Steering"
      ]
    },
    {
      "cell_type": "code",
      "execution_count": null,
      "metadata": {
        "id": "pLDvLTj2yiY5",
        "outputId": "00828268-14c5-4573-b947-07a45cb9e05e",
        "colab": {
          "referenced_widgets": [
            "c17dc19390ae4a2c906573bdd9ee2835",
            "7e0a478997f546779a0902c75d07c610",
            "d392a0493dbe4eb6a04d412debeaf1bd",
            "1c63dba7deec41e5815ea745024ac981"
          ]
        }
      },
      "outputs": [
        {
          "data": {
            "application/vnd.jupyter.widget-view+json": {
              "model_id": "c17dc19390ae4a2c906573bdd9ee2835",
              "version_major": 2,
              "version_minor": 0
            },
            "text/plain": [
              "FloatSlider(value=0.75, description='speed gain', max=1.0, step=0.01)"
            ]
          },
          "metadata": {},
          "output_type": "display_data"
        },
        {
          "data": {
            "application/vnd.jupyter.widget-view+json": {
              "model_id": "7e0a478997f546779a0902c75d07c610",
              "version_major": 2,
              "version_minor": 0
            },
            "text/plain": [
              "FloatSlider(value=0.33, description='steering gain', max=1.0, step=0.01)"
            ]
          },
          "metadata": {},
          "output_type": "display_data"
        },
        {
          "data": {
            "application/vnd.jupyter.widget-view+json": {
              "model_id": "d392a0493dbe4eb6a04d412debeaf1bd",
              "version_major": 2,
              "version_minor": 0
            },
            "text/plain": [
              "FloatSlider(value=0.12, description='steering kd', max=0.5, step=0.001)"
            ]
          },
          "metadata": {},
          "output_type": "display_data"
        },
        {
          "data": {
            "application/vnd.jupyter.widget-view+json": {
              "model_id": "1c63dba7deec41e5815ea745024ac981",
              "version_major": 2,
              "version_minor": 0
            },
            "text/plain": [
              "FloatSlider(value=0.0, description='steering bias', max=0.3, min=-0.3, step=0.01)"
            ]
          },
          "metadata": {},
          "output_type": "display_data"
        }
      ],
      "source": [
        "speed_gain_slider = ipywidgets.FloatSlider(min=0.0, max=1.0, step=0.01, value=0.75,description='speed gain')\n",
        "steering_gain_slider = ipywidgets.FloatSlider(min=0.0, max=1.0, step=0.01, value=0.33, description='steering gain')\n",
        "steering_dgain_slider = ipywidgets.FloatSlider(min=0.0, max=0.5, step=0.001, value=0.12, description='steering kd')\n",
        "steering_bias_slider = ipywidgets.FloatSlider(min=-0.3, max=0.3, step=0.01, value=0, description='steering bias')\n",
        "\n",
        "display(speed_gain_slider, steering_gain_slider, steering_dgain_slider, steering_bias_slider)"
      ]
    },
    {
      "cell_type": "markdown",
      "metadata": {
        "id": "UpdJuwAQyiY5"
      },
      "source": [
        "The x and y sliders will display the predicted x, y values. The steering slider will display our estimated steering value. This value is not the actual angle of the target, but an almost proportional value.\n",
        "\n",
        "When the actual angle is ``0``, this is 0, which will increase/decrease as the actual angle increases/decreases:"
      ]
    },
    {
      "cell_type": "code",
      "execution_count": null,
      "metadata": {
        "id": "Ml1hqDx5yiY5",
        "outputId": "3cd7ffd6-c6cf-418d-fa08-c77d53ae47d0",
        "colab": {
          "referenced_widgets": [
            "cb5c3e4e6b624998a48abe7b9d03eea3",
            "c67ae3327da54d4cbc5a29c324fab368",
            "281113382d564ae389874c000c3c0c54"
          ]
        }
      },
      "outputs": [
        {
          "data": {
            "application/vnd.jupyter.widget-view+json": {
              "model_id": "cb5c3e4e6b624998a48abe7b9d03eea3",
              "version_major": 2,
              "version_minor": 0
            },
            "text/plain": [
              "HBox(children=(FloatSlider(value=0.0, description='y', max=1.0, orientation='vertical'), FloatSlider(value=0.0…"
            ]
          },
          "metadata": {},
          "output_type": "display_data"
        },
        {
          "data": {
            "application/vnd.jupyter.widget-view+json": {
              "model_id": "c67ae3327da54d4cbc5a29c324fab368",
              "version_major": 2,
              "version_minor": 0
            },
            "text/plain": [
              "FloatSlider(value=0.0, description='x', max=1.0, min=-1.0)"
            ]
          },
          "metadata": {},
          "output_type": "display_data"
        },
        {
          "data": {
            "application/vnd.jupyter.widget-view+json": {
              "model_id": "281113382d564ae389874c000c3c0c54",
              "version_major": 2,
              "version_minor": 0
            },
            "text/plain": [
              "FloatSlider(value=0.0, description='steering', max=1.0, min=-1.0)"
            ]
          },
          "metadata": {},
          "output_type": "display_data"
        }
      ],
      "source": [
        "x_slider = ipywidgets.FloatSlider(min=-1.0, max=1.0, description='x')\n",
        "y_slider = ipywidgets.FloatSlider(min=0, max=1.0, orientation='vertical', description='y')\n",
        "steering_slider = ipywidgets.FloatSlider(min=-1.0, max=1.0, description='steering')\n",
        "speed_slider = ipywidgets.FloatSlider(min=0, max=1.0, orientation='vertical', description='speed')\n",
        "\n",
        "display(ipywidgets.HBox([y_slider, speed_slider]))\n",
        "display(x_slider, steering_slider)"
      ]
    },
    {
      "cell_type": "markdown",
      "metadata": {
        "id": "lLD5YOuiyiY6"
      },
      "source": [
        "Function to:-\n",
        "\n",
        "1) Preprocess camera image\n",
        "2) Perform a neural network\n",
        "3) Calculate the approximate steering value\n",
        "4) Control the motor using proportional/differential control (PD)"
      ]
    },
    {
      "cell_type": "code",
      "execution_count": null,
      "metadata": {
        "id": "OZc9mSjryiY6"
      },
      "outputs": [],
      "source": [
        "angle = 0.0\n",
        "angle_last = 0.0\n",
        "\n",
        "def execute(change):\n",
        "    global angle, angle_last\n",
        "    image = change['new']\n",
        "    xy = model(preprocess(image)).detach().float().cpu().numpy().flatten()\n",
        "    x = xy[0]\n",
        "    y = (0.5 - xy[1]) / 2.0\n",
        "\n",
        "    x_slider.value = x\n",
        "    y_slider.value = y\n",
        "\n",
        "    speed_slider.value = speed_gain_slider.value\n",
        "\n",
        "    angle = np.arctan2(x, y)\n",
        "    pid = angle * steering_gain_slider.value + (angle - angle_last) * steering_dgain_slider.value\n",
        "    angle_last = angle\n",
        "\n",
        "    steering_slider.value = pid + steering_bias_slider.value\n",
        "\n",
        "    #PID+ Base speed + Gain\n",
        "    robot.left_motor.value = max(min(speed_slider.value + steering_slider.value, 1.0), 0.0)\n",
        "    robot.right_motor.value = max(min(speed_slider.value - steering_slider.value, 1.0), 0.0)\n",
        "\n",
        "execute({'new': camera.value})"
      ]
    },
    {
      "cell_type": "markdown",
      "metadata": {
        "id": "Cf2AvkDyyiY6"
      },
      "source": [
        "Linking the neural netwrok to the camera for processing."
      ]
    },
    {
      "cell_type": "code",
      "execution_count": null,
      "metadata": {
        "id": "l3CXzIg-yiY6",
        "outputId": "3313484a-f777-47eb-c75c-df15467e23be"
      },
      "outputs": [
        {
          "name": "stdout",
          "output_type": "stream",
          "text": [
            "184\n",
            "b'\\xff\\xff\\x01\\x07\\x03*\\x08\\x00\\x00\\n\\xb8'\n",
            "166\n",
            "b'\\xff\\xff\\x02\\x07\\x03*\\x05\\x14\\x00\\n\\xa6'\n"
          ]
        }
      ],
      "source": [
        "camservoInitFunction()\n",
        "camera.observe(execute, names='value')"
      ]
    },
    {
      "cell_type": "code",
      "execution_count": null,
      "metadata": {
        "id": "XnMfwdHnyiY6"
      },
      "outputs": [],
      "source": [
        "camera.unobserve(execute, names='value')\n",
        "time.sleep(0.1)\n",
        "robot.stop()"
      ]
    },
    {
      "cell_type": "code",
      "execution_count": null,
      "metadata": {
        "id": "MZ4j4_HXyiY6"
      },
      "outputs": [],
      "source": []
    }
  ],
  "metadata": {
    "kernelspec": {
      "display_name": "Python 3",
      "language": "python",
      "name": "python3"
    },
    "language_info": {
      "codemirror_mode": {
        "name": "ipython",
        "version": 3
      },
      "file_extension": ".py",
      "mimetype": "text/x-python",
      "name": "python",
      "nbconvert_exporter": "python",
      "pygments_lexer": "ipython3",
      "version": "3.8.8"
    },
    "colab": {
      "provenance": []
    }
  },
  "nbformat": 4,
  "nbformat_minor": 0
}